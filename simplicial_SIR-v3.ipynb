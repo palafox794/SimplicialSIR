{
 "cells": [
  {
   "cell_type": "code",
   "execution_count": 1,
   "metadata": {
    "scrolled": true
   },
   "outputs": [
    {
     "data": {
      "text/plain": [
       "'SageMath version 9.0, Release Date: 2020-01-01'"
      ]
     },
     "execution_count": 1,
     "metadata": {},
     "output_type": "execute_result"
    }
   ],
   "source": [
    "version()"
   ]
  },
  {
   "cell_type": "markdown",
   "metadata": {},
   "source": [
    "Simulation of a Markovian SIR epidemic on a Simplicial Complex of arbitrary dimension"
   ]
  },
  {
   "cell_type": "code",
   "execution_count": 2,
   "metadata": {},
   "outputs": [],
   "source": [
    "import networkx as nx\n",
    "\n",
    "import random\n",
    "import numpy as np\n",
    "\n",
    "import matplotlib.pyplot as plt"
   ]
  },
  {
   "cell_type": "code",
   "execution_count": 3,
   "metadata": {},
   "outputs": [],
   "source": [
    "random.seed(7)"
   ]
  },
  {
   "cell_type": "code",
   "execution_count": 4,
   "metadata": {},
   "outputs": [],
   "source": [
    "np.random.seed(3)"
   ]
  },
  {
   "cell_type": "code",
   "execution_count": 5,
   "metadata": {},
   "outputs": [],
   "source": [
    "def simplices_containing_node(node, scomplex, dim):\n",
    "    \"Returns list of all simplices of dimension dim having node as element\"\n",
    "    return [simplex for simplex in scomplex.faces()[dim] if node in simplex]"
   ]
  },
  {
   "cell_type": "code",
   "execution_count": 6,
   "metadata": {},
   "outputs": [],
   "source": [
    "def node_neighborhood(node, scomplex):\n",
    "    \"Returns nodes that have an edge (1-simplex) connecting them to node\"\n",
    "    edges = simplices_containing_node(node, scomplex, 1)\n",
    "    \n",
    "    nodes = list(set([i for i, j in edges] + [j for i, j in edges]))\n",
    "    \n",
    "    nodes.remove(node)\n",
    "    \n",
    "    return(nodes)"
   ]
  },
  {
   "cell_type": "code",
   "execution_count": 7,
   "metadata": {},
   "outputs": [],
   "source": [
    "def vertex_set(scomplex):\n",
    "    \"Returns vertex set of simplicial complex (0-simplices)\"\n",
    "    vertices = [i[0] for i in scomplex.faces()[0]]\n",
    "    vertices.sort()\n",
    "    \n",
    "    return vertices"
   ]
  },
  {
   "cell_type": "code",
   "execution_count": 8,
   "metadata": {},
   "outputs": [],
   "source": [
    "def infected_in_simplex(simplex, node_status):\n",
    "    \"Returns list of nodes in simplex with status 'I' (infected)\"\n",
    "    return len([node_status[i] for i in simplex if node_status[i] == 'I'])"
   ]
  },
  {
   "cell_type": "markdown",
   "metadata": {},
   "source": [
    "### Description of the process\n",
    "\n",
    "A contagion process will spread in a simplicial complex $X$ of dimension $d$. Nodes (i.e., 0-simplices) will be either susceptible, infectious or recovered. Susceptible nodes can turn infectious, and infectious node eventually recover. At time 0, a randomly selected node is turned infectious, while the rest are susceptible. A $k$-simplex $\\mathcal{K}$ having all its nodes infected will infect a susceptible node $x$ according to a Poisson process with rate $\\beta_{k+1}$ if $\\mathcal{K} \\cup \\lbrace x \\rbrace$ is a $k+1$ simplex in the complex."
   ]
  },
  {
   "cell_type": "code",
   "execution_count": 9,
   "metadata": {},
   "outputs": [],
   "source": [
    "def process_recovery(event, X, times, S, I, R, node_status):\n",
    "    #events are (0: time, 1: simplex, 2: type)\n",
    "    \n",
    "    #Change the node status to R since its recovered\n",
    "    node_status[event[1]] = 'R'\n",
    "    \n",
    "    #Add the time of occurence of the event to our array of times\n",
    "    times.append(event[0])\n",
    "    \n",
    "    #We now have the same amount of Susceptibles, one infected less\n",
    "    #and one recovered more.\n",
    "    S.append(S[-1])\n",
    "    I.append(I[-1]-1)\n",
    "    R.append(R[-1]+1)    "
   ]
  },
  {
   "cell_type": "code",
   "execution_count": 10,
   "metadata": {},
   "outputs": [],
   "source": [
    "def process_contagion(event, X, times, S, I, R, list_of_events, beta, gamma, dim, nodes, sched_time_inf, sched_time_rec, node_status, T_MAX):\n",
    "    #events are (0: time, 1: simplex, 2: type)\n",
    "\n",
    "    #We first check if the node is susceptible. Else there's nothing to do\n",
    "    \n",
    "    if node_status[event[1]] == 'S':\n",
    "        #If it is susceptible, we change it to infected and adjust our \n",
    "        #data arrays\n",
    "        node_status[event[1]] = 'I'\n",
    "        times.append(event[0])\n",
    "        S.append(S[-1]-1)\n",
    "        I.append(I[-1]+1)\n",
    "        R.append(R[-1])\n",
    "        \n",
    "        #For the (now) infected node, we generate a time for its recovery\n",
    "        #If said time falls within our simulation time horizon, we create\n",
    "        #a 'recovery' event\n",
    "        rec_time = event[0] + random.expovariate(gamma)\n",
    "        \n",
    "        if rec_time < T_MAX:\n",
    "            new_event = (rec_time, event[1], 'recovery')\n",
    "            sched_time_rec[event[1]] = rec_time\n",
    "            \n",
    "            list_of_events.append(new_event)\n",
    "            list_of_events.sort()\n",
    "            \n",
    "        #We now generate infection times for all susceptible neighbors \n",
    "        #of the (now) infected node\n",
    "        for target in node_neighborhood(event[1], X):\n",
    "            if node_status[target] == 'S':\n",
    "                inf_time = event[0] + random.expovariate(beta[0])\n",
    "                \n",
    "                #The susceptible neighbor (target) will be infected at inf_time \n",
    "                #if inf_time happens before the Infectious' node recovery time\n",
    "                #and before the target's scheduled time of infection, and \n",
    "                #within the simulation horizon                \n",
    "                if inf_time < min(rec_time, sched_time_inf[target], T_MAX):\n",
    "                    new_event = (inf_time, target, 'contagion')\n",
    "                    list_of_events.append(new_event)\n",
    "                    list_of_events.sort()\n",
    "                    sched_time_inf[target] = inf_time\n",
    "        \n",
    "        #Here we will deal with 'simplicial contagion'; a simplex of dimension >= 1\n",
    "        #infecting a node. Above we dealt with nodes (0-simplices) infecting other nodes\n",
    "        for d in range(2, dim+1): \n",
    "            #We obtain the simplices of dimension d containing our newly infected node\n",
    "            Simplices = simplices_containing_node(event[1], X, d)\n",
    "            \n",
    "            #For a (d-1)-simplex to infect a node u, the node u and the (d-1) simplex must form a \n",
    "            #d simplex where all nodes except u are infected, and u is susceptible \n",
    "            Simplices = [simplex for simplex in Simplices if infected_in_simplex(simplex, node_status) == d]\n",
    "            \n",
    "            for simplex in Simplices:\n",
    "                #Because of the above condition, there should be at most one susc. node\n",
    "                susc_nodes = [i for i in simplex if node_status[i] == 'S']\n",
    "                \n",
    "                for susc_node in susc_nodes:\n",
    "                    inf_time = event[0] + random.expovariate(beta[d-1])\n",
    "                    infected_nodes_in_simplex = [i for i in simplex if node_status[i] == 'I'] #should be 'd' of them\n",
    "                    rec_times = [sched_time_rec[i] for i in infected_nodes_in_simplex]\n",
    "                    rec_time = min(rec_times)\n",
    "                    \n",
    "                    if inf_time < min(rec_time, sched_time_inf[susc_node], T_MAX):\n",
    "                        new_event = (inf_time, susc_node, 'contagion')\n",
    "                        list_of_events.append(new_event) \n",
    "                        list_of_events.sort()\n",
    "                        sched_time_inf[susc_node] = inf_time"
   ]
  },
  {
   "cell_type": "code",
   "execution_count": 11,
   "metadata": {},
   "outputs": [],
   "source": [
    "def simplicial_sir(X, beta, gamma, T_MAX):\n",
    "    dim = X.dimension()\n",
    "    if len(beta) != dim:\n",
    "        raise ValueError(\"There must be as many transmission rates as the dimension of the complex\")\n",
    "        \n",
    "    nodes = vertex_set(X)\n",
    "       \n",
    "    #Scheduled time of infection for each node\n",
    "    sched_time_inf = {i:np.inf for i in nodes}\n",
    "\n",
    "    #Scheduled time of recovery for each node\n",
    "    sched_time_rec = {i:np.inf for i in nodes}\n",
    "\n",
    "    #Node status (can be either S, I or R)\n",
    "    node_status = {i:'S' for i in nodes}\n",
    "    \n",
    "    list_of_events = []\n",
    "    times, S, I, R = [0], [len(nodes)], [0], [0]\n",
    "    \n",
    "    #Initial infected node\n",
    "    u = np.random.choice(nodes)\n",
    "\n",
    "    sched_time_inf[u] = 0\n",
    "\n",
    "    #events are (0: time, 1: simplex, 2: type)\n",
    "    event = (0, u, 'contagion')\n",
    "\n",
    "    #Every time we add an event to our list, the list must be sorted by time\n",
    "    #(python sorts tuples by lexicographically by default, apparently)\n",
    "    list_of_events.append(event)\n",
    "    list_of_events.sort()\n",
    "    \n",
    "    while(len(list_of_events) > 0):\n",
    "        event = list_of_events.pop(0)\n",
    "    \n",
    "        if event[2]  == 'contagion':\n",
    "            process_contagion(event, X, times, S, I, R, list_of_events, beta, gamma, dim, nodes, sched_time_inf, sched_time_rec, node_status, T_MAX)\n",
    "        else:\n",
    "            process_recovery(event, X, times, S, I, R, node_status)\n",
    "    \n",
    "    \n",
    "    data = np.column_stack((times, S, I, R))\n",
    "    \n",
    "    return data"
   ]
  },
  {
   "cell_type": "code",
   "execution_count": 12,
   "metadata": {},
   "outputs": [],
   "source": [
    "X = simplicial_complexes.RandomComplex(20, 4)"
   ]
  },
  {
   "cell_type": "code",
   "execution_count": 13,
   "metadata": {},
   "outputs": [],
   "source": [
    "data = simplicial_sir(X, [1.1, 1.2, 1.4, 1.5], 2, 10)"
   ]
  },
  {
   "cell_type": "code",
   "execution_count": 14,
   "metadata": {
    "scrolled": true
   },
   "outputs": [
    {
     "data": {
      "text/plain": [
       "<matplotlib.legend.Legend object at 0x1c68ed940>"
      ]
     },
     "execution_count": 14,
     "metadata": {},
     "output_type": "execute_result"
    },
    {
     "data": {
      "image/png": "[encoded data removed]",
      "text/plain": [
       "<Figure size 432x288 with 1 Axes>"
      ]
     },
     "metadata": {},
     "output_type": "display_data"
    }
   ],
   "source": [
    "plt.plot(data[:, 0], data[:, 1], label='S')\n",
    "plt.plot(data[:, 0], data[:, 2], label='I')\n",
    "plt.plot(data[:, 0], data[:, 3], label='R')\n",
    "plt.xlabel('Time')\n",
    "plt.ylabel('Nodes')\n",
    "plt.title(\"Simplicial stochastic SIR\")\n",
    "plt.legend()"
   ]
  },
  {
   "cell_type": "markdown",
   "metadata": {},
   "source": [
    "******\n",
    "*****\n",
    "***********\n",
    "### Example 2\n",
    "Here, the same process will be considered on the following simplicial complex. First, an Erdos-Renyi graph with 500 nodes and $p=0.3$ will be constructed. From this graph, we will randomly select triangles to be 2-simplices, until we have 3000 of them."
   ]
  },
  {
   "cell_type": "code",
   "execution_count": 15,
   "metadata": {},
   "outputs": [],
   "source": [
    "G = nx.erdos_renyi_graph(500, .3)"
   ]
  },
  {
   "cell_type": "code",
   "execution_count": 16,
   "metadata": {},
   "outputs": [
    {
     "data": {
      "text/plain": [
       "True"
      ]
     },
     "execution_count": 16,
     "metadata": {},
     "output_type": "execute_result"
    }
   ],
   "source": [
    "nx.is_connected(G)"
   ]
  },
  {
   "cell_type": "code",
   "execution_count": 17,
   "metadata": {},
   "outputs": [],
   "source": [
    "cliques = []"
   ]
  },
  {
   "cell_type": "code",
   "execution_count": 18,
   "metadata": {
    "scrolled": true
   },
   "outputs": [],
   "source": [
    "#Out of all cliques of 3 nodes in G, we randomly\n",
    "#choose some until we have 3000 of them\n",
    "#This takes about a minute\n",
    "for clique in nx.enumerate_all_cliques(G):\n",
    "    if len(cliques) < 3000:\n",
    "        if len(clique) == 3:\n",
    "            u = random.random()\n",
    "            if u < .5:\n",
    "                cliques.append(clique)\n",
    "    else:\n",
    "        break"
   ]
  },
  {
   "cell_type": "code",
   "execution_count": 19,
   "metadata": {},
   "outputs": [],
   "source": [
    "cliques = [(x[0], x[1], x[2]) for x in cliques]"
   ]
  },
  {
   "cell_type": "code",
   "execution_count": 20,
   "metadata": {},
   "outputs": [],
   "source": [
    "edges = [pair for pair in G.edges]"
   ]
  },
  {
   "cell_type": "code",
   "execution_count": 21,
   "metadata": {},
   "outputs": [],
   "source": [
    "#Here we join our edges and triangles\n",
    "simplices = cliques + edges"
   ]
  },
  {
   "cell_type": "code",
   "execution_count": 22,
   "metadata": {},
   "outputs": [],
   "source": [
    "X = SimplicialComplex(simplices)"
   ]
  },
  {
   "cell_type": "code",
   "execution_count": 23,
   "metadata": {},
   "outputs": [],
   "source": [
    "#Dimension of simplicial complex where the contagion process will occur\n",
    "dim = X.dimension()"
   ]
  },
  {
   "cell_type": "code",
   "execution_count": 24,
   "metadata": {},
   "outputs": [
    {
     "data": {
      "text/plain": [
       "2"
      ]
     },
     "execution_count": 24,
     "metadata": {},
     "output_type": "execute_result"
    }
   ],
   "source": [
    "dim"
   ]
  },
  {
   "cell_type": "code",
   "execution_count": 25,
   "metadata": {},
   "outputs": [],
   "source": [
    "beta, gamma = [.5, 1], 2"
   ]
  },
  {
   "cell_type": "code",
   "execution_count": 26,
   "metadata": {},
   "outputs": [],
   "source": [
    "data = simplicial_sir(X, beta, gamma, 10)"
   ]
  },
  {
   "cell_type": "code",
   "execution_count": 27,
   "metadata": {
    "scrolled": true
   },
   "outputs": [
    {
     "data": {
      "text/plain": [
       "<matplotlib.legend.Legend object at 0x1c6fb7d68>"
      ]
     },
     "execution_count": 27,
     "metadata": {},
     "output_type": "execute_result"
    },
    {
     "data": {
      "image/png": "[encoded data removed]",
      "text/plain": [
       "<Figure size 432x288 with 1 Axes>"
      ]
     },
     "metadata": {},
     "output_type": "display_data"
    }
   ],
   "source": [
    "plt.plot(data[:, 0], data[:, 1], label='S')\n",
    "plt.plot(data[:, 0], data[:, 2], label='I')\n",
    "plt.plot(data[:, 0], data[:, 3], label='R')\n",
    "plt.xlabel('Time')\n",
    "plt.ylabel('Nodes')\n",
    "plt.title(\"Simplicial stochastic SIR\")\n",
    "plt.legend()"
   ]
  },
  {
   "cell_type": "code",
   "execution_count": null,
   "metadata": {},
   "outputs": [],
   "source": []
  }
 ],
 "metadata": {
  "kernelspec": {
   "display_name": "SageMath 9.0",
   "language": "sage",
   "name": "sagemath"
  },
  "language_info": {
   "codemirror_mode": {
    "name": "ipython",
    "version": 3
   },
   "file_extension": ".py",
   "mimetype": "text/x-python",
   "name": "python",
   "nbconvert_exporter": "python",
   "pygments_lexer": "ipython3",
   "version": "3.7.3"
  }
 },
 "nbformat": 4,
 "nbformat_minor": 2
}
